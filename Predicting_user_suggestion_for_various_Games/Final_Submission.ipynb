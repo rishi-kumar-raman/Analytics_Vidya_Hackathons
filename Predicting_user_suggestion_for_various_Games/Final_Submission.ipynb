{
 "cells": [
  {
   "cell_type": "code",
   "execution_count": 1,
   "metadata": {},
   "outputs": [],
   "source": [
    "import pandas as pd\n",
    "import numpy as np\n",
    "import matplotlib.pyplot as plt\n",
    "import seaborn as sns\n",
    "import warnings\n",
    "warnings.filterwarnings('ignore')"
   ]
  },
  {
   "cell_type": "code",
   "execution_count": 76,
   "metadata": {},
   "outputs": [],
   "source": [
    "df_train=pd.read_csv('train.csv')"
   ]
  },
  {
   "cell_type": "code",
   "execution_count": 77,
   "metadata": {},
   "outputs": [],
   "source": [
    "df_game=pd.read_csv('game_overview.csv')"
   ]
  },
  {
   "cell_type": "code",
   "execution_count": 78,
   "metadata": {},
   "outputs": [],
   "source": [
    "df_test=pd.read_csv('test.csv')"
   ]
  },
  {
   "cell_type": "code",
   "execution_count": 79,
   "metadata": {},
   "outputs": [
    {
     "data": {
      "text/html": [
       "<div>\n",
       "<style scoped>\n",
       "    .dataframe tbody tr th:only-of-type {\n",
       "        vertical-align: middle;\n",
       "    }\n",
       "\n",
       "    .dataframe tbody tr th {\n",
       "        vertical-align: top;\n",
       "    }\n",
       "\n",
       "    .dataframe thead th {\n",
       "        text-align: right;\n",
       "    }\n",
       "</style>\n",
       "<table border=\"1\" class=\"dataframe\">\n",
       "  <thead>\n",
       "    <tr style=\"text-align: right;\">\n",
       "      <th></th>\n",
       "      <th>review_id</th>\n",
       "      <th>title</th>\n",
       "      <th>year</th>\n",
       "      <th>user_review</th>\n",
       "    </tr>\n",
       "  </thead>\n",
       "  <tbody>\n",
       "    <tr>\n",
       "      <td>0</td>\n",
       "      <td>1603</td>\n",
       "      <td>Counter-Strike: Global Offensive</td>\n",
       "      <td>2015.0</td>\n",
       "      <td>Nice graphics, new maps, weapons and models. B...</td>\n",
       "    </tr>\n",
       "    <tr>\n",
       "      <td>1</td>\n",
       "      <td>1604</td>\n",
       "      <td>Counter-Strike: Global Offensive</td>\n",
       "      <td>2018.0</td>\n",
       "      <td>I would not recommend getting into this at its...</td>\n",
       "    </tr>\n",
       "    <tr>\n",
       "      <td>2</td>\n",
       "      <td>1605</td>\n",
       "      <td>Counter-Strike: Global Offensive</td>\n",
       "      <td>2018.0</td>\n",
       "      <td>Edit 11/12/18I have tried playing CS:GO recent...</td>\n",
       "    </tr>\n",
       "    <tr>\n",
       "      <td>3</td>\n",
       "      <td>1606</td>\n",
       "      <td>Counter-Strike: Global Offensive</td>\n",
       "      <td>2015.0</td>\n",
       "      <td>The game is great. But the community is the wo...</td>\n",
       "    </tr>\n",
       "    <tr>\n",
       "      <td>4</td>\n",
       "      <td>1607</td>\n",
       "      <td>Counter-Strike: Global Offensive</td>\n",
       "      <td>2015.0</td>\n",
       "      <td>I thank TrulyRazor for buying this for me a lo...</td>\n",
       "    </tr>\n",
       "  </tbody>\n",
       "</table>\n",
       "</div>"
      ],
      "text/plain": [
       "   review_id                             title    year  \\\n",
       "0       1603  Counter-Strike: Global Offensive  2015.0   \n",
       "1       1604  Counter-Strike: Global Offensive  2018.0   \n",
       "2       1605  Counter-Strike: Global Offensive  2018.0   \n",
       "3       1606  Counter-Strike: Global Offensive  2015.0   \n",
       "4       1607  Counter-Strike: Global Offensive  2015.0   \n",
       "\n",
       "                                         user_review  \n",
       "0  Nice graphics, new maps, weapons and models. B...  \n",
       "1  I would not recommend getting into this at its...  \n",
       "2  Edit 11/12/18I have tried playing CS:GO recent...  \n",
       "3  The game is great. But the community is the wo...  \n",
       "4  I thank TrulyRazor for buying this for me a lo...  "
      ]
     },
     "execution_count": 79,
     "metadata": {},
     "output_type": "execute_result"
    }
   ],
   "source": [
    "df_test.head()"
   ]
  },
  {
   "cell_type": "code",
   "execution_count": 80,
   "metadata": {},
   "outputs": [],
   "source": [
    "import re"
   ]
  },
  {
   "cell_type": "code",
   "execution_count": 81,
   "metadata": {},
   "outputs": [],
   "source": [
    "def partiotion_data_list(data):\n",
    "    l1=re.findall(r'[\\w,]',data)\n",
    "    x=''.join(l1)\n",
    "    y=list(x.split(','))\n",
    "    return y\n",
    "    "
   ]
  },
  {
   "cell_type": "code",
   "execution_count": 82,
   "metadata": {},
   "outputs": [],
   "source": [
    "df_game['new_tags']=df_game['tags'].apply(lambda x:partiotion_data_list(x))"
   ]
  },
  {
   "cell_type": "code",
   "execution_count": 83,
   "metadata": {},
   "outputs": [],
   "source": [
    "l1=re.findall(r'[\\w,]',df_game['tags'][0])"
   ]
  },
  {
   "cell_type": "code",
   "execution_count": 84,
   "metadata": {},
   "outputs": [],
   "source": [
    "x=''.join(l1)"
   ]
  },
  {
   "cell_type": "markdown",
   "metadata": {},
   "source": [
    "### Dictionary to be created for verifying the count"
   ]
  },
  {
   "cell_type": "code",
   "execution_count": 85,
   "metadata": {},
   "outputs": [],
   "source": [
    "l=[]\n",
    "def tota_tags(data):\n",
    "    for i in data:\n",
    "        if(i not in l):\n",
    "            l.append(i)    "
   ]
  },
  {
   "cell_type": "code",
   "execution_count": 86,
   "metadata": {},
   "outputs": [
    {
     "data": {
      "text/plain": [
       "0     None\n",
       "1     None\n",
       "2     None\n",
       "3     None\n",
       "4     None\n",
       "      ... \n",
       "59    None\n",
       "60    None\n",
       "61    None\n",
       "62    None\n",
       "63    None\n",
       "Name: new_tags, Length: 64, dtype: object"
      ]
     },
     "execution_count": 86,
     "metadata": {},
     "output_type": "execute_result"
    }
   ],
   "source": [
    "df_game['new_tags'].apply(lambda x:tota_tags(x))"
   ]
  },
  {
   "cell_type": "code",
   "execution_count": 87,
   "metadata": {},
   "outputs": [
    {
     "data": {
      "text/plain": [
       "['Horror',\n",
       " 'FreetoPlay',\n",
       " 'Cute',\n",
       " 'FirstPerson',\n",
       " 'Singleplayer',\n",
       " 'PsychologicalHorror',\n",
       " 'Indie',\n",
       " 'Adventure',\n",
       " 'Dark',\n",
       " 'Funny',\n",
       " 'Atmospheric',\n",
       " 'Action',\n",
       " 'WalkingSimulator',\n",
       " 'Survival',\n",
       " 'SurvivalHorror',\n",
       " 'Anime',\n",
       " 'Gore',\n",
       " 'Comedy',\n",
       " 'Multiplayer',\n",
       " 'Illuminati',\n",
       " 'Nudity',\n",
       " 'Mature',\n",
       " 'SexualContent',\n",
       " 'Clicker',\n",
       " 'FemaleProtagonist',\n",
       " 'Casual',\n",
       " 'Fantasy',\n",
       " 'NSFW',\n",
       " 'Memes',\n",
       " '2D',\n",
       " 'RPG',\n",
       " 'StoryRich',\n",
       " 'DatingSim',\n",
       " 'EarlyAccess',\n",
       " 'FPS',\n",
       " 'Shooter',\n",
       " 'War',\n",
       " 'MassivelyMultiplayer',\n",
       " 'Coop',\n",
       " 'Zombies',\n",
       " 'Controller',\n",
       " 'OpenWorld',\n",
       " 'OnlineCoOp',\n",
       " 'Space',\n",
       " 'PvP',\n",
       " 'MOBA',\n",
       " 'Strategy',\n",
       " 'Scifi',\n",
       " 'SpaceSim',\n",
       " 'Tactical',\n",
       " 'TeamBased',\n",
       " 'Competitive',\n",
       " 'Simulation',\n",
       " 'esports',\n",
       " 'Military',\n",
       " 'Trading',\n",
       " 'Difficult',\n",
       " 'Realistic',\n",
       " 'FastPaced',\n",
       " 'Moddable',\n",
       " 'RTS',\n",
       " 'TowerDefense',\n",
       " 'CharacterCustomization',\n",
       " 'ReplayValue',\n",
       " 'ActionRPG',\n",
       " 'HackandSlash',\n",
       " 'Loot',\n",
       " 'MMORPG',\n",
       " 'DungeonCrawler',\n",
       " 'PvE',\n",
       " 'DarkFantasy',\n",
       " 'InventoryManagement',\n",
       " 'Fishing',\n",
       " 'WorldWarII',\n",
       " 'Flight',\n",
       " 'Tanks',\n",
       " 'Historical',\n",
       " 'Arcade',\n",
       " 'TrackIR',\n",
       " 'BattleRoyale',\n",
       " 'ThirdPersonShooter',\n",
       " 'Violent',\n",
       " 'Destruction',\n",
       " 'Sandbox',\n",
       " 'ClassBased',\n",
       " 'Cartoony',\n",
       " 'Robots',\n",
       " 'Crafting',\n",
       " 'Cartoon',\n",
       " 'Naval',\n",
       " 'WorldWarI',\n",
       " 'ThirdPerson',\n",
       " 'CardGame',\n",
       " 'TradingCardGame',\n",
       " 'GreatSoundtrack',\n",
       " 'Mythology',\n",
       " 'Fighting',\n",
       " '2DFighter',\n",
       " 'LocalMultiplayer',\n",
       " 'Platformer',\n",
       " 'LocalCoOp',\n",
       " 'Beatemup',\n",
       " '4PlayerLocal',\n",
       " 'TurnBased',\n",
       " 'JRPG',\n",
       " 'VR',\n",
       " 'BoardGame',\n",
       " 'Isometric',\n",
       " 'Building',\n",
       " 'PixelGraphics',\n",
       " 'Exploration',\n",
       " 'Voxel',\n",
       " 'Dragons',\n",
       " 'DungeonsDragons',\n",
       " 'Futuristic',\n",
       " 'BaseBuilding',\n",
       " 'RealTime',\n",
       " 'RealTimeTactics',\n",
       " 'Blood',\n",
       " 'TopDown',\n",
       " 'StrategyRPG',\n",
       " 'PermaDeath',\n",
       " 'BulletHell',\n",
       " 'Roguelike',\n",
       " 'Retro',\n",
       " 'SideScroller',\n",
       " 'BasedOnANovel',\n",
       " 'Sports',\n",
       " 'Relaxing',\n",
       " 'FamilyFriendly',\n",
       " 'Romance',\n",
       " 'VisualNovel',\n",
       " 'ResourceManagement',\n",
       " 'Hunting',\n",
       " 'Stealth',\n",
       " 'Gambling',\n",
       " 'Basketball',\n",
       " 'Racing',\n",
       " 'Driving',\n",
       " 'ActionAdventure',\n",
       " 'Postapocalyptic',\n",
       " 'Management',\n",
       " 'Medieval',\n",
       " 'DarkHumor',\n",
       " 'Classic',\n",
       " 'CultClassic',\n",
       " 'TurnBasedStrategy',\n",
       " 'TacticalRPG',\n",
       " 'TurnBasedTactics',\n",
       " 'Superhero',\n",
       " 'ComicBook',\n",
       " 'Magic',\n",
       " 'Capitalism',\n",
       " '3DVision',\n",
       " 'CityBuilder',\n",
       " 'GunCustomization',\n",
       " 'Education',\n",
       " 'Puzzle',\n",
       " 'America',\n",
       " 'Masterpiece',\n",
       " 'Mod']"
      ]
     },
     "execution_count": 87,
     "metadata": {},
     "output_type": "execute_result"
    }
   ],
   "source": [
    "l"
   ]
  },
  {
   "cell_type": "code",
   "execution_count": 88,
   "metadata": {},
   "outputs": [],
   "source": [
    "dict1={}"
   ]
  },
  {
   "cell_type": "code",
   "execution_count": 89,
   "metadata": {},
   "outputs": [],
   "source": [
    "for i in l:\n",
    "    dict1.setdefault(i,0)"
   ]
  },
  {
   "cell_type": "code",
   "execution_count": 90,
   "metadata": {},
   "outputs": [],
   "source": [
    "count_of_words=[]\n",
    "def collect(data):\n",
    "    count_of_words.append(','.join(data))"
   ]
  },
  {
   "cell_type": "code",
   "execution_count": 91,
   "metadata": {},
   "outputs": [],
   "source": [
    "count_of_pr=[]\n",
    "for i in df_game['new_tags']:\n",
    "    for j in i:\n",
    "        count_of_pr.append(j)"
   ]
  },
  {
   "cell_type": "code",
   "execution_count": 92,
   "metadata": {},
   "outputs": [],
   "source": [
    "from collections import Counter"
   ]
  },
  {
   "cell_type": "code",
   "execution_count": 93,
   "metadata": {},
   "outputs": [],
   "source": [
    "count_of_tags=Counter(count_of_pr)"
   ]
  },
  {
   "cell_type": "code",
   "execution_count": 94,
   "metadata": {},
   "outputs": [],
   "source": [
    "count_tags=pd.DataFrame(count_of_tags.items(), columns=['Genre', 'Count']).sort_values(by='Count',ascending=False)"
   ]
  },
  {
   "cell_type": "code",
   "execution_count": 95,
   "metadata": {},
   "outputs": [],
   "source": [
    "l_to_added=list(count_tags.head(30)['Genre'].values)"
   ]
  },
  {
   "cell_type": "code",
   "execution_count": 97,
   "metadata": {},
   "outputs": [],
   "source": [
    "l_to_added=['FPS',\n",
    " 'Multiplayer',\n",
    " 'Shooter',\n",
    " 'Action',\n",
    " 'TeamBased',\n",
    " 'Competitive',\n",
    " 'Tactical',\n",
    " 'FirstPerson',\n",
    " 'esports',\n",
    " 'PvP',\n",
    " 'OnlineCoOp',\n",
    " 'Military',\n",
    " 'Coop',\n",
    " 'Strategy',\n",
    " 'War',\n",
    " 'Trading',\n",
    " 'Difficult',\n",
    " 'Realistic',\n",
    " 'Moddable',\n",
    " 'FreetoPlay',\n",
    " 'WorldWarII',\n",
    " 'MassivelyMultiplayer',\n",
    " 'Simulation',\n",
    " 'Anime',\n",
    " 'Singleplayer',\n",
    " 'Scifi',\n",
    " 'Space',\n",
    " 'RPG',\n",
    " 'MMORPG',\n",
    " 'OpenWorld',\n",
    " 'CharacterCustomization',\n",
    " 'ThirdPerson',\n",
    " 'Adventure',\n",
    " 'PvE',\n",
    " 'ActionRPG',\n",
    " 'MOBA',\n",
    " 'EarlyAccess',\n",
    " 'Fantasy',\n",
    " 'Funny',\n",
    " 'Survival',\n",
    " 'Memes',\n",
    " 'CardGame',\n",
    " 'TradingCardGame',\n",
    " 'SexualContent',\n",
    " 'TurnBased',\n",
    " 'Nudity',\n",
    " 'Casual',\n",
    " 'Cute',\n",
    " 'GreatSoundtrack',\n",
    " 'HackandSlash',\n",
    " 'DatingSim',\n",
    " 'RTS',\n",
    " 'BaseBuilding',\n",
    " 'Sandbox',\n",
    " '2D',\n",
    " 'Indie',\n",
    " 'Controller',\n",
    " 'TowerDefense',\n",
    " 'Exploration',\n",
    " 'StoryRich',\n",
    " 'DarkFantasy',\n",
    " 'Fishing',\n",
    " 'Sports',\n",
    " 'FamilyFriendly',\n",
    " 'Clicker',\n",
    " 'Mature',\n",
    " 'Comedy',\n",
    " 'FemaleProtagonist',\n",
    " 'ResourceManagement',\n",
    " 'ActionAdventure',\n",
    " 'Arcade',\n",
    " 'PsychologicalHorror',\n",
    " 'Classic',\n",
    " 'BoardGame',\n",
    " 'ThirdPersonShooter',\n",
    " 'BattleRoyale',\n",
    " 'Zombies',\n",
    " 'Violent',\n",
    " 'WalkingSimulator',\n",
    " 'Gore']"
   ]
  },
  {
   "cell_type": "code",
   "execution_count": 98,
   "metadata": {},
   "outputs": [],
   "source": [
    "for i in l_to_added:\n",
    "    df_game[i]=df_game['new_tags'].apply(lambda x:1 if(i in x) else 0)"
   ]
  },
  {
   "cell_type": "code",
   "execution_count": 99,
   "metadata": {},
   "outputs": [
    {
     "data": {
      "text/html": [
       "<div>\n",
       "<style scoped>\n",
       "    .dataframe tbody tr th:only-of-type {\n",
       "        vertical-align: middle;\n",
       "    }\n",
       "\n",
       "    .dataframe tbody tr th {\n",
       "        vertical-align: top;\n",
       "    }\n",
       "\n",
       "    .dataframe thead th {\n",
       "        text-align: right;\n",
       "    }\n",
       "</style>\n",
       "<table border=\"1\" class=\"dataframe\">\n",
       "  <thead>\n",
       "    <tr style=\"text-align: right;\">\n",
       "      <th></th>\n",
       "      <th>title</th>\n",
       "      <th>developer</th>\n",
       "      <th>publisher</th>\n",
       "      <th>tags</th>\n",
       "      <th>overview</th>\n",
       "      <th>new_tags</th>\n",
       "      <th>FPS</th>\n",
       "      <th>Multiplayer</th>\n",
       "      <th>Shooter</th>\n",
       "      <th>Action</th>\n",
       "      <th>...</th>\n",
       "      <th>Arcade</th>\n",
       "      <th>PsychologicalHorror</th>\n",
       "      <th>Classic</th>\n",
       "      <th>BoardGame</th>\n",
       "      <th>ThirdPersonShooter</th>\n",
       "      <th>BattleRoyale</th>\n",
       "      <th>Zombies</th>\n",
       "      <th>Violent</th>\n",
       "      <th>WalkingSimulator</th>\n",
       "      <th>Gore</th>\n",
       "    </tr>\n",
       "  </thead>\n",
       "  <tbody>\n",
       "    <tr>\n",
       "      <td>0</td>\n",
       "      <td>Spooky's Jump Scare Mansion</td>\n",
       "      <td>Lag Studios</td>\n",
       "      <td>Lag Studios</td>\n",
       "      <td>['Horror', 'Free to Play', 'Cute', 'First-Pers...</td>\n",
       "      <td>Can you survive 1000 rooms of cute terror? Or ...</td>\n",
       "      <td>[Horror, FreetoPlay, Cute, FirstPerson, Single...</td>\n",
       "      <td>0</td>\n",
       "      <td>1</td>\n",
       "      <td>0</td>\n",
       "      <td>1</td>\n",
       "      <td>...</td>\n",
       "      <td>0</td>\n",
       "      <td>1</td>\n",
       "      <td>0</td>\n",
       "      <td>0</td>\n",
       "      <td>0</td>\n",
       "      <td>0</td>\n",
       "      <td>0</td>\n",
       "      <td>0</td>\n",
       "      <td>1</td>\n",
       "      <td>1</td>\n",
       "    </tr>\n",
       "    <tr>\n",
       "      <td>1</td>\n",
       "      <td>Sakura Clicker</td>\n",
       "      <td>Winged Cloud</td>\n",
       "      <td>Winged Cloud</td>\n",
       "      <td>['Nudity', 'Anime', 'Free to Play', 'Mature', ...</td>\n",
       "      <td>The latest entry in the Sakura series is more ...</td>\n",
       "      <td>[Nudity, Anime, FreetoPlay, Mature, SexualCont...</td>\n",
       "      <td>0</td>\n",
       "      <td>0</td>\n",
       "      <td>0</td>\n",
       "      <td>0</td>\n",
       "      <td>...</td>\n",
       "      <td>0</td>\n",
       "      <td>0</td>\n",
       "      <td>0</td>\n",
       "      <td>0</td>\n",
       "      <td>0</td>\n",
       "      <td>0</td>\n",
       "      <td>0</td>\n",
       "      <td>0</td>\n",
       "      <td>0</td>\n",
       "      <td>0</td>\n",
       "    </tr>\n",
       "    <tr>\n",
       "      <td>2</td>\n",
       "      <td>WARMODE</td>\n",
       "      <td>WARTEAM</td>\n",
       "      <td>WARTEAM</td>\n",
       "      <td>['Early Access', 'Free to Play', 'FPS', 'Multi...</td>\n",
       "      <td>Free to play shooter about the confrontation o...</td>\n",
       "      <td>[EarlyAccess, FreetoPlay, FPS, Multiplayer, Sh...</td>\n",
       "      <td>1</td>\n",
       "      <td>1</td>\n",
       "      <td>1</td>\n",
       "      <td>1</td>\n",
       "      <td>...</td>\n",
       "      <td>0</td>\n",
       "      <td>0</td>\n",
       "      <td>0</td>\n",
       "      <td>0</td>\n",
       "      <td>0</td>\n",
       "      <td>0</td>\n",
       "      <td>1</td>\n",
       "      <td>0</td>\n",
       "      <td>0</td>\n",
       "      <td>1</td>\n",
       "    </tr>\n",
       "    <tr>\n",
       "      <td>3</td>\n",
       "      <td>Fractured Space</td>\n",
       "      <td>Edge Case Games Ltd.</td>\n",
       "      <td>Edge Case Games Ltd.</td>\n",
       "      <td>['Space', 'Multiplayer', 'Free to Play', 'PvP'...</td>\n",
       "      <td>Take the helm of a gigantic capital ship and g...</td>\n",
       "      <td>[Space, Multiplayer, FreetoPlay, PvP, MOBA, Ac...</td>\n",
       "      <td>0</td>\n",
       "      <td>1</td>\n",
       "      <td>1</td>\n",
       "      <td>1</td>\n",
       "      <td>...</td>\n",
       "      <td>0</td>\n",
       "      <td>0</td>\n",
       "      <td>0</td>\n",
       "      <td>0</td>\n",
       "      <td>0</td>\n",
       "      <td>0</td>\n",
       "      <td>0</td>\n",
       "      <td>0</td>\n",
       "      <td>0</td>\n",
       "      <td>0</td>\n",
       "    </tr>\n",
       "    <tr>\n",
       "      <td>4</td>\n",
       "      <td>Counter-Strike: Global Offensive</td>\n",
       "      <td>Valve, Hidden Path Entertainment</td>\n",
       "      <td>Valve</td>\n",
       "      <td>['FPS', 'Multiplayer', 'Shooter', 'Action', 'T...</td>\n",
       "      <td>Counter-Strike: Global Offensive (CS: GO) expa...</td>\n",
       "      <td>[FPS, Multiplayer, Shooter, Action, TeamBased,...</td>\n",
       "      <td>1</td>\n",
       "      <td>1</td>\n",
       "      <td>1</td>\n",
       "      <td>1</td>\n",
       "      <td>...</td>\n",
       "      <td>0</td>\n",
       "      <td>0</td>\n",
       "      <td>0</td>\n",
       "      <td>0</td>\n",
       "      <td>0</td>\n",
       "      <td>0</td>\n",
       "      <td>0</td>\n",
       "      <td>0</td>\n",
       "      <td>0</td>\n",
       "      <td>0</td>\n",
       "    </tr>\n",
       "    <tr>\n",
       "      <td>...</td>\n",
       "      <td>...</td>\n",
       "      <td>...</td>\n",
       "      <td>...</td>\n",
       "      <td>...</td>\n",
       "      <td>...</td>\n",
       "      <td>...</td>\n",
       "      <td>...</td>\n",
       "      <td>...</td>\n",
       "      <td>...</td>\n",
       "      <td>...</td>\n",
       "      <td>...</td>\n",
       "      <td>...</td>\n",
       "      <td>...</td>\n",
       "      <td>...</td>\n",
       "      <td>...</td>\n",
       "      <td>...</td>\n",
       "      <td>...</td>\n",
       "      <td>...</td>\n",
       "      <td>...</td>\n",
       "      <td>...</td>\n",
       "      <td>...</td>\n",
       "    </tr>\n",
       "    <tr>\n",
       "      <td>59</td>\n",
       "      <td>Bloons TD Battles</td>\n",
       "      <td>Ninja Kiwi</td>\n",
       "      <td>Ninja Kiwi</td>\n",
       "      <td>['Free to Play', 'Tower Defense', 'Multiplayer...</td>\n",
       "      <td>Play the top-rated tower defense franchise in ...</td>\n",
       "      <td>[FreetoPlay, TowerDefense, Multiplayer, Strate...</td>\n",
       "      <td>0</td>\n",
       "      <td>1</td>\n",
       "      <td>0</td>\n",
       "      <td>1</td>\n",
       "      <td>...</td>\n",
       "      <td>0</td>\n",
       "      <td>0</td>\n",
       "      <td>0</td>\n",
       "      <td>0</td>\n",
       "      <td>0</td>\n",
       "      <td>0</td>\n",
       "      <td>0</td>\n",
       "      <td>0</td>\n",
       "      <td>0</td>\n",
       "      <td>0</td>\n",
       "    </tr>\n",
       "    <tr>\n",
       "      <td>60</td>\n",
       "      <td>Cuisine Royale</td>\n",
       "      <td>Darkflow Software</td>\n",
       "      <td>Gaijin Distribution KFT</td>\n",
       "      <td>['Early Access', 'Free to Play', 'Battle Royal...</td>\n",
       "      <td>Cuisine Royale is an all-kitchen-warfare Battl...</td>\n",
       "      <td>[EarlyAccess, FreetoPlay, BattleRoyale, Surviv...</td>\n",
       "      <td>1</td>\n",
       "      <td>1</td>\n",
       "      <td>1</td>\n",
       "      <td>1</td>\n",
       "      <td>...</td>\n",
       "      <td>0</td>\n",
       "      <td>1</td>\n",
       "      <td>0</td>\n",
       "      <td>0</td>\n",
       "      <td>0</td>\n",
       "      <td>1</td>\n",
       "      <td>0</td>\n",
       "      <td>1</td>\n",
       "      <td>0</td>\n",
       "      <td>0</td>\n",
       "    </tr>\n",
       "    <tr>\n",
       "      <td>61</td>\n",
       "      <td>GUNS UP!</td>\n",
       "      <td>Valkyrie Entertainment, LLC</td>\n",
       "      <td>PlayStation Mobile, Inc.</td>\n",
       "      <td>['Free to Play', 'Strategy', 'Multiplayer', 'A...</td>\n",
       "      <td>In a mashup of RTS &amp; Tower Defense, GUNS UP! i...</td>\n",
       "      <td>[FreetoPlay, Strategy, Multiplayer, Action, Ca...</td>\n",
       "      <td>0</td>\n",
       "      <td>1</td>\n",
       "      <td>1</td>\n",
       "      <td>1</td>\n",
       "      <td>...</td>\n",
       "      <td>0</td>\n",
       "      <td>0</td>\n",
       "      <td>0</td>\n",
       "      <td>0</td>\n",
       "      <td>0</td>\n",
       "      <td>0</td>\n",
       "      <td>0</td>\n",
       "      <td>0</td>\n",
       "      <td>0</td>\n",
       "      <td>0</td>\n",
       "    </tr>\n",
       "    <tr>\n",
       "      <td>62</td>\n",
       "      <td>School of Dragons</td>\n",
       "      <td>JumpStart Games, Inc.</td>\n",
       "      <td>JumpStart Games, Inc.</td>\n",
       "      <td>['Free to Play', 'Dragons', 'Adventure', 'Mult...</td>\n",
       "      <td>**Changewing Dragon now Available**Fly Fast. T...</td>\n",
       "      <td>[FreetoPlay, Dragons, Adventure, Multiplayer, ...</td>\n",
       "      <td>0</td>\n",
       "      <td>1</td>\n",
       "      <td>0</td>\n",
       "      <td>1</td>\n",
       "      <td>...</td>\n",
       "      <td>0</td>\n",
       "      <td>0</td>\n",
       "      <td>0</td>\n",
       "      <td>0</td>\n",
       "      <td>0</td>\n",
       "      <td>0</td>\n",
       "      <td>0</td>\n",
       "      <td>0</td>\n",
       "      <td>0</td>\n",
       "      <td>0</td>\n",
       "    </tr>\n",
       "    <tr>\n",
       "      <td>63</td>\n",
       "      <td>EverQuest II</td>\n",
       "      <td>Daybreak Game Company</td>\n",
       "      <td>Daybreak Game Company</td>\n",
       "      <td>['Free to Play', 'Massively Multiplayer', 'RPG...</td>\n",
       "      <td>EverQuest® II is the epitome of massively mult...</td>\n",
       "      <td>[FreetoPlay, MassivelyMultiplayer, RPG, MMORPG...</td>\n",
       "      <td>1</td>\n",
       "      <td>1</td>\n",
       "      <td>0</td>\n",
       "      <td>1</td>\n",
       "      <td>...</td>\n",
       "      <td>0</td>\n",
       "      <td>0</td>\n",
       "      <td>1</td>\n",
       "      <td>0</td>\n",
       "      <td>0</td>\n",
       "      <td>0</td>\n",
       "      <td>0</td>\n",
       "      <td>0</td>\n",
       "      <td>0</td>\n",
       "      <td>0</td>\n",
       "    </tr>\n",
       "  </tbody>\n",
       "</table>\n",
       "<p>64 rows × 86 columns</p>\n",
       "</div>"
      ],
      "text/plain": [
       "                               title                          developer  \\\n",
       "0        Spooky's Jump Scare Mansion                       Lag Studios    \n",
       "1                     Sakura Clicker                      Winged Cloud    \n",
       "2                            WARMODE                           WARTEAM    \n",
       "3                    Fractured Space              Edge Case Games Ltd.    \n",
       "4   Counter-Strike: Global Offensive  Valve, Hidden Path Entertainment    \n",
       "..                               ...                                ...   \n",
       "59                 Bloons TD Battles                        Ninja Kiwi    \n",
       "60                    Cuisine Royale                 Darkflow Software    \n",
       "61                          GUNS UP!       Valkyrie Entertainment, LLC    \n",
       "62                 School of Dragons             JumpStart Games, Inc.    \n",
       "63                      EverQuest II             Daybreak Game Company    \n",
       "\n",
       "                    publisher  \\\n",
       "0                Lag Studios    \n",
       "1               Winged Cloud    \n",
       "2                    WARTEAM    \n",
       "3       Edge Case Games Ltd.    \n",
       "4                      Valve    \n",
       "..                        ...   \n",
       "59                Ninja Kiwi    \n",
       "60   Gaijin Distribution KFT    \n",
       "61  PlayStation Mobile, Inc.    \n",
       "62     JumpStart Games, Inc.    \n",
       "63     Daybreak Game Company    \n",
       "\n",
       "                                                 tags  \\\n",
       "0   ['Horror', 'Free to Play', 'Cute', 'First-Pers...   \n",
       "1   ['Nudity', 'Anime', 'Free to Play', 'Mature', ...   \n",
       "2   ['Early Access', 'Free to Play', 'FPS', 'Multi...   \n",
       "3   ['Space', 'Multiplayer', 'Free to Play', 'PvP'...   \n",
       "4   ['FPS', 'Multiplayer', 'Shooter', 'Action', 'T...   \n",
       "..                                                ...   \n",
       "59  ['Free to Play', 'Tower Defense', 'Multiplayer...   \n",
       "60  ['Early Access', 'Free to Play', 'Battle Royal...   \n",
       "61  ['Free to Play', 'Strategy', 'Multiplayer', 'A...   \n",
       "62  ['Free to Play', 'Dragons', 'Adventure', 'Mult...   \n",
       "63  ['Free to Play', 'Massively Multiplayer', 'RPG...   \n",
       "\n",
       "                                             overview  \\\n",
       "0   Can you survive 1000 rooms of cute terror? Or ...   \n",
       "1   The latest entry in the Sakura series is more ...   \n",
       "2   Free to play shooter about the confrontation o...   \n",
       "3   Take the helm of a gigantic capital ship and g...   \n",
       "4   Counter-Strike: Global Offensive (CS: GO) expa...   \n",
       "..                                                ...   \n",
       "59  Play the top-rated tower defense franchise in ...   \n",
       "60  Cuisine Royale is an all-kitchen-warfare Battl...   \n",
       "61  In a mashup of RTS & Tower Defense, GUNS UP! i...   \n",
       "62  **Changewing Dragon now Available**Fly Fast. T...   \n",
       "63  EverQuest® II is the epitome of massively mult...   \n",
       "\n",
       "                                             new_tags  FPS  Multiplayer  \\\n",
       "0   [Horror, FreetoPlay, Cute, FirstPerson, Single...    0            1   \n",
       "1   [Nudity, Anime, FreetoPlay, Mature, SexualCont...    0            0   \n",
       "2   [EarlyAccess, FreetoPlay, FPS, Multiplayer, Sh...    1            1   \n",
       "3   [Space, Multiplayer, FreetoPlay, PvP, MOBA, Ac...    0            1   \n",
       "4   [FPS, Multiplayer, Shooter, Action, TeamBased,...    1            1   \n",
       "..                                                ...  ...          ...   \n",
       "59  [FreetoPlay, TowerDefense, Multiplayer, Strate...    0            1   \n",
       "60  [EarlyAccess, FreetoPlay, BattleRoyale, Surviv...    1            1   \n",
       "61  [FreetoPlay, Strategy, Multiplayer, Action, Ca...    0            1   \n",
       "62  [FreetoPlay, Dragons, Adventure, Multiplayer, ...    0            1   \n",
       "63  [FreetoPlay, MassivelyMultiplayer, RPG, MMORPG...    1            1   \n",
       "\n",
       "    Shooter  Action  ...  Arcade  PsychologicalHorror  Classic  BoardGame  \\\n",
       "0         0       1  ...       0                    1        0          0   \n",
       "1         0       0  ...       0                    0        0          0   \n",
       "2         1       1  ...       0                    0        0          0   \n",
       "3         1       1  ...       0                    0        0          0   \n",
       "4         1       1  ...       0                    0        0          0   \n",
       "..      ...     ...  ...     ...                  ...      ...        ...   \n",
       "59        0       1  ...       0                    0        0          0   \n",
       "60        1       1  ...       0                    1        0          0   \n",
       "61        1       1  ...       0                    0        0          0   \n",
       "62        0       1  ...       0                    0        0          0   \n",
       "63        0       1  ...       0                    0        1          0   \n",
       "\n",
       "    ThirdPersonShooter  BattleRoyale  Zombies  Violent  WalkingSimulator  Gore  \n",
       "0                    0             0        0        0                 1     1  \n",
       "1                    0             0        0        0                 0     0  \n",
       "2                    0             0        1        0                 0     1  \n",
       "3                    0             0        0        0                 0     0  \n",
       "4                    0             0        0        0                 0     0  \n",
       "..                 ...           ...      ...      ...               ...   ...  \n",
       "59                   0             0        0        0                 0     0  \n",
       "60                   0             1        0        1                 0     0  \n",
       "61                   0             0        0        0                 0     0  \n",
       "62                   0             0        0        0                 0     0  \n",
       "63                   0             0        0        0                 0     0  \n",
       "\n",
       "[64 rows x 86 columns]"
      ]
     },
     "execution_count": 99,
     "metadata": {},
     "output_type": "execute_result"
    }
   ],
   "source": [
    "df_game"
   ]
  },
  {
   "cell_type": "code",
   "execution_count": 100,
   "metadata": {},
   "outputs": [
    {
     "data": {
      "text/plain": [
       "['[',\n",
       " \"'\",\n",
       " 'H',\n",
       " 'o',\n",
       " 'r',\n",
       " 'r',\n",
       " 'o',\n",
       " 'r',\n",
       " \"'\",\n",
       " ',',\n",
       " ' ',\n",
       " \"'\",\n",
       " 'F',\n",
       " 'r',\n",
       " 'e',\n",
       " 'e',\n",
       " ' ',\n",
       " 't',\n",
       " 'o',\n",
       " ' ',\n",
       " 'P',\n",
       " 'l',\n",
       " 'a',\n",
       " 'y',\n",
       " \"'\",\n",
       " ',',\n",
       " ' ',\n",
       " \"'\",\n",
       " 'C',\n",
       " 'u',\n",
       " 't',\n",
       " 'e',\n",
       " \"'\",\n",
       " ',',\n",
       " ' ',\n",
       " \"'\",\n",
       " 'F',\n",
       " 'i',\n",
       " 'r',\n",
       " 's',\n",
       " 't',\n",
       " '-',\n",
       " 'P',\n",
       " 'e',\n",
       " 'r',\n",
       " 's',\n",
       " 'o',\n",
       " 'n',\n",
       " \"'\",\n",
       " ',',\n",
       " ' ',\n",
       " \"'\",\n",
       " 'S',\n",
       " 'i',\n",
       " 'n',\n",
       " 'g',\n",
       " 'l',\n",
       " 'e',\n",
       " 'p',\n",
       " 'l',\n",
       " 'a',\n",
       " 'y',\n",
       " 'e',\n",
       " 'r',\n",
       " \"'\",\n",
       " ',',\n",
       " ' ',\n",
       " \"'\",\n",
       " 'P',\n",
       " 's',\n",
       " 'y',\n",
       " 'c',\n",
       " 'h',\n",
       " 'o',\n",
       " 'l',\n",
       " 'o',\n",
       " 'g',\n",
       " 'i',\n",
       " 'c',\n",
       " 'a',\n",
       " 'l',\n",
       " ' ',\n",
       " 'H',\n",
       " 'o',\n",
       " 'r',\n",
       " 'r',\n",
       " 'o',\n",
       " 'r',\n",
       " \"'\",\n",
       " ',',\n",
       " ' ',\n",
       " \"'\",\n",
       " 'I',\n",
       " 'n',\n",
       " 'd',\n",
       " 'i',\n",
       " 'e',\n",
       " \"'\",\n",
       " ',',\n",
       " ' ',\n",
       " \"'\",\n",
       " 'A',\n",
       " 'd',\n",
       " 'v',\n",
       " 'e',\n",
       " 'n',\n",
       " 't',\n",
       " 'u',\n",
       " 'r',\n",
       " 'e',\n",
       " \"'\",\n",
       " ',',\n",
       " ' ',\n",
       " \"'\",\n",
       " 'D',\n",
       " 'a',\n",
       " 'r',\n",
       " 'k',\n",
       " \"'\",\n",
       " ',',\n",
       " ' ',\n",
       " \"'\",\n",
       " 'F',\n",
       " 'u',\n",
       " 'n',\n",
       " 'n',\n",
       " 'y',\n",
       " \"'\",\n",
       " ',',\n",
       " ' ',\n",
       " \"'\",\n",
       " 'A',\n",
       " 't',\n",
       " 'm',\n",
       " 'o',\n",
       " 's',\n",
       " 'p',\n",
       " 'h',\n",
       " 'e',\n",
       " 'r',\n",
       " 'i',\n",
       " 'c',\n",
       " \"'\",\n",
       " ',',\n",
       " ' ',\n",
       " \"'\",\n",
       " 'A',\n",
       " 'c',\n",
       " 't',\n",
       " 'i',\n",
       " 'o',\n",
       " 'n',\n",
       " \"'\",\n",
       " ',',\n",
       " ' ',\n",
       " \"'\",\n",
       " 'W',\n",
       " 'a',\n",
       " 'l',\n",
       " 'k',\n",
       " 'i',\n",
       " 'n',\n",
       " 'g',\n",
       " ' ',\n",
       " 'S',\n",
       " 'i',\n",
       " 'm',\n",
       " 'u',\n",
       " 'l',\n",
       " 'a',\n",
       " 't',\n",
       " 'o',\n",
       " 'r',\n",
       " \"'\",\n",
       " ',',\n",
       " ' ',\n",
       " \"'\",\n",
       " 'S',\n",
       " 'u',\n",
       " 'r',\n",
       " 'v',\n",
       " 'i',\n",
       " 'v',\n",
       " 'a',\n",
       " 'l',\n",
       " \"'\",\n",
       " ',',\n",
       " ' ',\n",
       " \"'\",\n",
       " 'S',\n",
       " 'u',\n",
       " 'r',\n",
       " 'v',\n",
       " 'i',\n",
       " 'v',\n",
       " 'a',\n",
       " 'l',\n",
       " ' ',\n",
       " 'H',\n",
       " 'o',\n",
       " 'r',\n",
       " 'r',\n",
       " 'o',\n",
       " 'r',\n",
       " \"'\",\n",
       " ',',\n",
       " ' ',\n",
       " \"'\",\n",
       " 'A',\n",
       " 'n',\n",
       " 'i',\n",
       " 'm',\n",
       " 'e',\n",
       " \"'\",\n",
       " ',',\n",
       " ' ',\n",
       " \"'\",\n",
       " 'G',\n",
       " 'o',\n",
       " 'r',\n",
       " 'e',\n",
       " \"'\",\n",
       " ',',\n",
       " ' ',\n",
       " \"'\",\n",
       " 'C',\n",
       " 'o',\n",
       " 'm',\n",
       " 'e',\n",
       " 'd',\n",
       " 'y',\n",
       " \"'\",\n",
       " ',',\n",
       " ' ',\n",
       " \"'\",\n",
       " 'M',\n",
       " 'u',\n",
       " 'l',\n",
       " 't',\n",
       " 'i',\n",
       " 'p',\n",
       " 'l',\n",
       " 'a',\n",
       " 'y',\n",
       " 'e',\n",
       " 'r',\n",
       " \"'\",\n",
       " ',',\n",
       " ' ',\n",
       " \"'\",\n",
       " 'I',\n",
       " 'l',\n",
       " 'l',\n",
       " 'u',\n",
       " 'm',\n",
       " 'i',\n",
       " 'n',\n",
       " 'a',\n",
       " 't',\n",
       " 'i',\n",
       " \"'\",\n",
       " ']']"
      ]
     },
     "execution_count": 100,
     "metadata": {},
     "output_type": "execute_result"
    }
   ],
   "source": [
    "list(df_game['tags'][0])"
   ]
  },
  {
   "cell_type": "code",
   "execution_count": 101,
   "metadata": {},
   "outputs": [
    {
     "data": {
      "text/plain": [
       "1    9968\n",
       "0    7526\n",
       "Name: user_suggestion, dtype: int64"
      ]
     },
     "execution_count": 101,
     "metadata": {},
     "output_type": "execute_result"
    }
   ],
   "source": [
    "df_train['user_suggestion'].value_counts()"
   ]
  },
  {
   "cell_type": "code",
   "execution_count": 102,
   "metadata": {},
   "outputs": [],
   "source": [
    "df=pd.merge(left=df_train,right=df_game,how='left',on='title')"
   ]
  },
  {
   "cell_type": "code",
   "execution_count": 103,
   "metadata": {},
   "outputs": [],
   "source": [
    "df_test=pd.merge(left=df_test,right=df_game,how='left',on='title')"
   ]
  },
  {
   "cell_type": "code",
   "execution_count": 105,
   "metadata": {},
   "outputs": [
    {
     "data": {
      "text/plain": [
       "Index(['title', 'user_review', 'developer', 'publisher', 'tags', 'overview',\n",
       "       'new_tags'],\n",
       "      dtype='object')"
      ]
     },
     "execution_count": 105,
     "metadata": {},
     "output_type": "execute_result"
    }
   ],
   "source": [
    "df.select_dtypes('object').columns"
   ]
  },
  {
   "cell_type": "code",
   "execution_count": 106,
   "metadata": {},
   "outputs": [
    {
     "data": {
      "text/plain": [
       "array([\"Spooky's Jump Scare Mansion\", 'Sakura Clicker', 'WARMODE',\n",
       "       'Fractured Space', 'Dota 2', 'Path of Exile', 'War Thunder',\n",
       "       'Ring of Elysium', 'Team Fortress 2', 'Yu-Gi-Oh! Duel Links',\n",
       "       'SMITE®', 'Brawlhalla', 'World of Tanks Blitz',\n",
       "       'DCS World Steam Edition', 'Heroes & Generals',\n",
       "       'The Elder Scrolls®: Legends™', 'Trove', 'Neverwinter',\n",
       "       'Realm Royale', 'PlanetSide 2', 'Realm of the Mad God', 'Elsword',\n",
       "       'theHunter Classic', 'Eternal Card Game', 'Black Squad',\n",
       "       'Freestyle 2: Street Basketball', 'Bless Online',\n",
       "       'RaceRoom Racing Experience', 'Fallout Shelter',\n",
       "       'Tactical Monsters Rumble Arena', 'Creativerse', 'Dreadnought',\n",
       "       'Infestation: The New Z', 'Shop Heroes', 'Robocraft',\n",
       "       'Business Tour - Board Game with Online Multiplayer',\n",
       "       'Crusaders of the Lost Idols', 'AdventureQuest 3D',\n",
       "       'Realm Grinder', 'World of Guns: Gun Disassembly',\n",
       "       'Bloons TD Battles', 'Cuisine Royale', 'School of Dragons',\n",
       "       'EverQuest II'], dtype=object)"
      ]
     },
     "execution_count": 106,
     "metadata": {},
     "output_type": "execute_result"
    }
   ],
   "source": [
    "df['title'].unique()"
   ]
  },
  {
   "cell_type": "code",
   "execution_count": 117,
   "metadata": {},
   "outputs": [
    {
     "name": "stdout",
     "output_type": "stream",
     "text": [
      "<class 'pandas.core.frame.DataFrame'>\n",
      "Int64Index: 17494 entries, 0 to 17493\n",
      "Data columns (total 95 columns):\n",
      "review_id                 17494 non-null int64\n",
      "title                     17494 non-null object\n",
      "year                      17316 non-null float64\n",
      "user_review               17494 non-null object\n",
      "user_suggestion           17494 non-null int64\n",
      "developer                 17494 non-null object\n",
      "publisher                 17494 non-null object\n",
      "tags                      17494 non-null object\n",
      "overview                  17494 non-null object\n",
      "new_tags                  17494 non-null object\n",
      "FPS                       17494 non-null int64\n",
      "Multiplayer               17494 non-null int64\n",
      "Shooter                   17494 non-null int64\n",
      "Action                    17494 non-null int64\n",
      "TeamBased                 17494 non-null int64\n",
      "Competitive               17494 non-null int64\n",
      "Tactical                  17494 non-null int64\n",
      "FirstPerson               17494 non-null int64\n",
      "esports                   17494 non-null int64\n",
      "PvP                       17494 non-null int64\n",
      "OnlineCoOp                17494 non-null int64\n",
      "Military                  17494 non-null int64\n",
      "Coop                      17494 non-null int64\n",
      "Strategy                  17494 non-null int64\n",
      "War                       17494 non-null int64\n",
      "Trading                   17494 non-null int64\n",
      "Difficult                 17494 non-null int64\n",
      "Realistic                 17494 non-null int64\n",
      "Moddable                  17494 non-null int64\n",
      "FreetoPlay                17494 non-null int64\n",
      "WorldWarII                17494 non-null int64\n",
      "MassivelyMultiplayer      17494 non-null int64\n",
      "Simulation                17494 non-null int64\n",
      "Anime                     17494 non-null int64\n",
      "Singleplayer              17494 non-null int64\n",
      "Scifi                     17494 non-null int64\n",
      "Space                     17494 non-null int64\n",
      "RPG                       17494 non-null int64\n",
      "MMORPG                    17494 non-null int64\n",
      "OpenWorld                 17494 non-null int64\n",
      "CharacterCustomization    17494 non-null int64\n",
      "ThirdPerson               17494 non-null int64\n",
      "Adventure                 17494 non-null int64\n",
      "PvE                       17494 non-null int64\n",
      "ActionRPG                 17494 non-null int64\n",
      "MOBA                      17494 non-null int64\n",
      "EarlyAccess               17494 non-null int64\n",
      "Fantasy                   17494 non-null int64\n",
      "Funny                     17494 non-null int64\n",
      "Survival                  17494 non-null int64\n",
      "Memes                     17494 non-null int64\n",
      "CardGame                  17494 non-null int64\n",
      "TradingCardGame           17494 non-null int64\n",
      "SexualContent             17494 non-null int64\n",
      "TurnBased                 17494 non-null int64\n",
      "Nudity                    17494 non-null int64\n",
      "Casual                    17494 non-null int64\n",
      "Cute                      17494 non-null int64\n",
      "GreatSoundtrack           17494 non-null int64\n",
      "HackandSlash              17494 non-null int64\n",
      "DatingSim                 17494 non-null int64\n",
      "RTS                       17494 non-null int64\n",
      "BaseBuilding              17494 non-null int64\n",
      "Sandbox                   17494 non-null int64\n",
      "2D                        17494 non-null int64\n",
      "Indie                     17494 non-null int64\n",
      "Controller                17494 non-null int64\n",
      "TowerDefense              17494 non-null int64\n",
      "Exploration               17494 non-null int64\n",
      "StoryRich                 17494 non-null int64\n",
      "DarkFantasy               17494 non-null int64\n",
      "Fishing                   17494 non-null int64\n",
      "Sports                    17494 non-null int64\n",
      "FamilyFriendly            17494 non-null int64\n",
      "Clicker                   17494 non-null int64\n",
      "Mature                    17494 non-null int64\n",
      "Comedy                    17494 non-null int64\n",
      "FemaleProtagonist         17494 non-null int64\n",
      "ResourceManagement        17494 non-null int64\n",
      "ActionAdventure           17494 non-null int64\n",
      "Arcade                    17494 non-null int64\n",
      "PsychologicalHorror       17494 non-null int64\n",
      "Classic                   17494 non-null int64\n",
      "BoardGame                 17494 non-null int64\n",
      "ThirdPersonShooter        17494 non-null int64\n",
      "BattleRoyale              17494 non-null int64\n",
      "Zombies                   17494 non-null int64\n",
      "Violent                   17494 non-null int64\n",
      "WalkingSimulator          17494 non-null int64\n",
      "Gore                      17494 non-null int64\n",
      "No_of_Characters          17494 non-null int64\n",
      "length_of_review          17494 non-null int64\n",
      "pol                       17494 non-null float64\n",
      "sub                       17494 non-null float64\n",
      "pol_game                  17494 non-null float64\n",
      "dtypes: float64(4), int64(84), object(7)\n",
      "memory usage: 12.8+ MB\n"
     ]
    }
   ],
   "source": [
    "df.info()"
   ]
  },
  {
   "cell_type": "code",
   "execution_count": 118,
   "metadata": {},
   "outputs": [],
   "source": [
    "from sklearn.model_selection import train_test_split"
   ]
  },
  {
   "cell_type": "code",
   "execution_count": 129,
   "metadata": {},
   "outputs": [],
   "source": [
    "df_new1=df.drop(['title', 'developer', 'publisher', 'tags', 'overview','new_tags'],axis=1)"
   ]
  },
  {
   "cell_type": "code",
   "execution_count": 130,
   "metadata": {},
   "outputs": [],
   "source": [
    "X=df_new1.drop(['user_suggestion'],axis=1)\n",
    "y=df_new1['user_suggestion']"
   ]
  },
  {
   "cell_type": "code",
   "execution_count": 131,
   "metadata": {},
   "outputs": [],
   "source": [
    "X_train, X_test, y_train, y_test = train_test_split(X, y, test_size=0.3, random_state=1)"
   ]
  },
  {
   "cell_type": "code",
   "execution_count": null,
   "metadata": {},
   "outputs": [],
   "source": [
    "from sklearn.feature_extraction.text import TfidfVectorizer\n",
    "tfid=TfidfVectorizer()\n",
    "\n",
    "x_to_add_train=X_train.drop(['review_id'],axis=1)\n",
    "x_to_add_test=X_test.drop(['review_id'],axis=1)\n",
    "\n",
    "x_cv_train=tfid.fit_transform(['user_review'])\n",
    "\n",
    "x_cv_test=tfid.transform(X_test['user_review'])\n",
    "\n",
    "x_to_add_train=x_to_add_train.drop(['year','user_review'],axis=1)\n",
    "mine= sparse.csr_matrix(x_to_add_train)\n",
    "\n",
    "newX_train = sparse.hstack([mine, x_cv_train])\n",
    "\n",
    "mine= sparse.csr_matrix(x_to_add_test)\n",
    "\n",
    "newY_train = sparse.hstack([mine, x_cv_test])\n",
    "\n",
    "lsc=LinearSVC()\n",
    "\n",
    "lsc.fit(newX_train,y_train)\n",
    "\n",
    "pred=lsc.predict(newY_train)"
   ]
  },
  {
   "cell_type": "code",
   "execution_count": 138,
   "metadata": {},
   "outputs": [
    {
     "data": {
      "text/plain": [
       "(1, 1)"
      ]
     },
     "execution_count": 138,
     "metadata": {},
     "output_type": "execute_result"
    }
   ],
   "source": [
    "x_cv_train.shape"
   ]
  },
  {
   "cell_type": "code",
   "execution_count": 108,
   "metadata": {},
   "outputs": [],
   "source": [
    "from textblob import TextBlob\n",
    "\n",
    "df[\"No_of_Characters\"]=df[\"user_review\"].apply(lambda x:len(x.split(\" \")))\n",
    "\n",
    "df[\"length_of_review\"]=df[\"user_review\"].apply(lambda x:len(x))\n",
    "\n",
    "pol = lambda x: TextBlob(x).sentiment.polarity\n",
    "sub = lambda x: TextBlob(x).sentiment.subjectivity\n",
    "\n",
    "df[\"pol\"]=df['user_review'].apply(pol)\n",
    "\n",
    "df[\"sub\"]=df['user_review'].apply(sub)\n",
    "\n",
    "# from collections import Counter\n",
    "\n",
    "# total_list=[j for i in df[\"tags\"] for j in i]\n",
    "\n",
    "# unique_list=list(set(total_list))\n",
    "\n",
    "\n",
    "# for i in unique_list:\n",
    "#     df[i]=df[\"tags\"].apply(lambda x:1 if i in x else 0)\n",
    "\n",
    "df[\"pol_game\"]=df[\"overview\"].apply(pol)"
   ]
  },
  {
   "cell_type": "code",
   "execution_count": 109,
   "metadata": {},
   "outputs": [
    {
     "data": {
      "text/plain": [
       "(17494, 95)"
      ]
     },
     "execution_count": 109,
     "metadata": {},
     "output_type": "execute_result"
    }
   ],
   "source": [
    "df.shape"
   ]
  },
  {
   "cell_type": "code",
   "execution_count": 110,
   "metadata": {},
   "outputs": [],
   "source": [
    "from sklearn.feature_extraction.text import TfidfVectorizer"
   ]
  },
  {
   "cell_type": "code",
   "execution_count": 55,
   "metadata": {},
   "outputs": [],
   "source": [
    "tfid=TfidfVectorizer()"
   ]
  },
  {
   "cell_type": "code",
   "execution_count": 56,
   "metadata": {},
   "outputs": [],
   "source": [
    "x_col=tfid.fit_transform(df['user_review'])"
   ]
  },
  {
   "cell_type": "code",
   "execution_count": 57,
   "metadata": {},
   "outputs": [
    {
     "data": {
      "text/plain": [
       "(17494, 54566)"
      ]
     },
     "execution_count": 57,
     "metadata": {},
     "output_type": "execute_result"
    }
   ],
   "source": [
    "x_col.shape"
   ]
  },
  {
   "cell_type": "code",
   "execution_count": 58,
   "metadata": {},
   "outputs": [],
   "source": [
    "x_tes=tfid.transform(df_test['user_review'])"
   ]
  },
  {
   "cell_type": "code",
   "execution_count": 59,
   "metadata": {},
   "outputs": [
    {
     "data": {
      "text/plain": [
       "(8045, 54566)"
      ]
     },
     "execution_count": 59,
     "metadata": {},
     "output_type": "execute_result"
    }
   ],
   "source": [
    "x_tes.shape"
   ]
  },
  {
   "cell_type": "code",
   "execution_count": 60,
   "metadata": {},
   "outputs": [],
   "source": [
    "df_new=df.drop(['title','user_review','review_id','developer','publisher','tags','overview','new_tags','year','user_suggestion'],axis=1)"
   ]
  },
  {
   "cell_type": "code",
   "execution_count": 62,
   "metadata": {},
   "outputs": [
    {
     "data": {
      "text/plain": [
       "(17494, 85)"
      ]
     },
     "execution_count": 62,
     "metadata": {},
     "output_type": "execute_result"
    }
   ],
   "source": [
    "df_new.shape"
   ]
  },
  {
   "cell_type": "code",
   "execution_count": null,
   "metadata": {},
   "outputs": [],
   "source": [
    "df_test_new.shape"
   ]
  },
  {
   "cell_type": "code",
   "execution_count": 64,
   "metadata": {},
   "outputs": [],
   "source": [
    "df_test_new=df_test.drop(['title','user_review','review_id','developer','publisher','tags','overview','new_tags','year'],axis=1)"
   ]
  },
  {
   "cell_type": "code",
   "execution_count": 65,
   "metadata": {},
   "outputs": [],
   "source": [
    "from scipy import sparse"
   ]
  },
  {
   "cell_type": "code",
   "execution_count": 66,
   "metadata": {},
   "outputs": [],
   "source": [
    "mine= sparse.csr_matrix(df_new)\n",
    "\n",
    "newX_train = sparse.hstack([mine, x_col])\n"
   ]
  },
  {
   "cell_type": "code",
   "execution_count": 67,
   "metadata": {},
   "outputs": [],
   "source": [
    "mine= sparse.csr_matrix(df_test_new)\n",
    "\n",
    "newY_train = sparse.hstack([mine, x_tes])"
   ]
  },
  {
   "cell_type": "code",
   "execution_count": 68,
   "metadata": {},
   "outputs": [
    {
     "data": {
      "text/plain": [
       "(17494, 54651)"
      ]
     },
     "execution_count": 68,
     "metadata": {},
     "output_type": "execute_result"
    }
   ],
   "source": [
    "newX_train.shape"
   ]
  },
  {
   "cell_type": "code",
   "execution_count": 69,
   "metadata": {},
   "outputs": [
    {
     "data": {
      "text/plain": [
       "(8045, 54646)"
      ]
     },
     "execution_count": 69,
     "metadata": {},
     "output_type": "execute_result"
    }
   ],
   "source": [
    "newY_train.shape"
   ]
  },
  {
   "cell_type": "code",
   "execution_count": null,
   "metadata": {},
   "outputs": [],
   "source": [
    "lsc=LinearSVC()\n",
    "\n",
    "lsc.fit(newX_train,df['user_suggestion'])\n",
    "\n",
    "pred=lsc.predict(newY_train)"
   ]
  },
  {
   "cell_type": "code",
   "execution_count": null,
   "metadata": {},
   "outputs": [],
   "source": [
    "pred"
   ]
  },
  {
   "cell_type": "markdown",
   "metadata": {},
   "source": [
    "## Model Building"
   ]
  },
  {
   "cell_type": "code",
   "execution_count": 111,
   "metadata": {},
   "outputs": [],
   "source": [
    "from sklearn.pipeline import Pipeline\n",
    "from sklearn.feature_extraction.text import TfidfVectorizer\n",
    "from sklearn.svm import LinearSVC\n",
    "from sklearn.model_selection import train_test_split"
   ]
  },
  {
   "cell_type": "code",
   "execution_count": 114,
   "metadata": {},
   "outputs": [],
   "source": [
    "df_new=pd.concat([df['user_review'],df_new],axis=1)"
   ]
  },
  {
   "cell_type": "code",
   "execution_count": null,
   "metadata": {},
   "outputs": [],
   "source": [
    "X=df_new.drop(['user_suggestion'],axis=1)\n",
    "y=df_new['user_suggestion']"
   ]
  },
  {
   "cell_type": "code",
   "execution_count": 141,
   "metadata": {},
   "outputs": [],
   "source": [
    "X_train, X_test, y_train, y_test = train_test_split(X, y, test_size=0.1, random_state=1)"
   ]
  },
  {
   "cell_type": "code",
   "execution_count": 142,
   "metadata": {},
   "outputs": [],
   "source": [
    "from sklearn.feature_extraction.text import TfidfVectorizer\n",
    "tfid=TfidfVectorizer()"
   ]
  },
  {
   "cell_type": "code",
   "execution_count": 154,
   "metadata": {},
   "outputs": [],
   "source": [
    "x_to_add_train=X_train.drop(['user_review','review_id'],axis=1)\n",
    "x_to_add_test=X_test.drop(['user_review','review_id'],axis=1)"
   ]
  },
  {
   "cell_type": "code",
   "execution_count": 149,
   "metadata": {},
   "outputs": [],
   "source": [
    "x_cv_train=tfid.fit_transform(X_train['user_review'])"
   ]
  },
  {
   "cell_type": "code",
   "execution_count": 150,
   "metadata": {},
   "outputs": [],
   "source": [
    "x_cv_test=tfid.transform(X_test['user_review'])"
   ]
  },
  {
   "cell_type": "code",
   "execution_count": 155,
   "metadata": {},
   "outputs": [],
   "source": [
    "mine= sparse.csr_matrix(x_to_add_train)\n",
    "\n",
    "newX_train = sparse.hstack([mine, x_cv_train])"
   ]
  },
  {
   "cell_type": "code",
   "execution_count": 156,
   "metadata": {},
   "outputs": [],
   "source": [
    "mine= sparse.csr_matrix(x_to_add_test)\n",
    "\n",
    "newY_train = sparse.hstack([mine, x_cv_test])"
   ]
  },
  {
   "cell_type": "code",
   "execution_count": 157,
   "metadata": {},
   "outputs": [],
   "source": [
    "lsc=LinearSVC()"
   ]
  },
  {
   "cell_type": "code",
   "execution_count": 159,
   "metadata": {},
   "outputs": [
    {
     "data": {
      "text/plain": [
       "LinearSVC(C=1.0, class_weight=None, dual=True, fit_intercept=True,\n",
       "          intercept_scaling=1, loss='squared_hinge', max_iter=1000,\n",
       "          multi_class='ovr', penalty='l2', random_state=None, tol=0.0001,\n",
       "          verbose=0)"
      ]
     },
     "execution_count": 159,
     "metadata": {},
     "output_type": "execute_result"
    }
   ],
   "source": [
    "lsc.fit(newX_train,y_train)"
   ]
  },
  {
   "cell_type": "code",
   "execution_count": 160,
   "metadata": {},
   "outputs": [],
   "source": [
    "pred=lsc.predict(newY_train)"
   ]
  },
  {
   "cell_type": "code",
   "execution_count": 162,
   "metadata": {},
   "outputs": [
    {
     "data": {
      "text/plain": [
       "array([1, 1, 1, ..., 0, 0, 0], dtype=int64)"
      ]
     },
     "execution_count": 162,
     "metadata": {},
     "output_type": "execute_result"
    }
   ],
   "source": [
    "pred"
   ]
  },
  {
   "cell_type": "code",
   "execution_count": 47,
   "metadata": {},
   "outputs": [],
   "source": [
    "from sklearn.metrics import accuracy_score,classification_report,confusion_matrix"
   ]
  },
  {
   "cell_type": "code",
   "execution_count": 163,
   "metadata": {},
   "outputs": [
    {
     "data": {
      "text/plain": [
       "0.8782857142857143"
      ]
     },
     "execution_count": 163,
     "metadata": {},
     "output_type": "execute_result"
    }
   ],
   "source": [
    "accuracy_score(y_test,pred)"
   ]
  },
  {
   "cell_type": "code",
   "execution_count": 164,
   "metadata": {},
   "outputs": [
    {
     "name": "stdout",
     "output_type": "stream",
     "text": [
      "[[661 100]\n",
      " [113 876]]\n"
     ]
    }
   ],
   "source": [
    "print(confusion_matrix(y_test,pred))"
   ]
  },
  {
   "cell_type": "code",
   "execution_count": 165,
   "metadata": {},
   "outputs": [
    {
     "name": "stdout",
     "output_type": "stream",
     "text": [
      "              precision    recall  f1-score   support\n",
      "\n",
      "           0       0.85      0.87      0.86       761\n",
      "           1       0.90      0.89      0.89       989\n",
      "\n",
      "    accuracy                           0.88      1750\n",
      "   macro avg       0.88      0.88      0.88      1750\n",
      "weighted avg       0.88      0.88      0.88      1750\n",
      "\n"
     ]
    }
   ],
   "source": [
    "print(classification_report(y_test,pred))"
   ]
  },
  {
   "cell_type": "markdown",
   "metadata": {},
   "source": [
    "### for test"
   ]
  },
  {
   "cell_type": "code",
   "execution_count": 57,
   "metadata": {},
   "outputs": [],
   "source": [
    "text_clf=Pipeline([('tfidf',TfidfVectorizer()),\n",
    "                   ('clf',LinearSVC())])\n",
    "\n",
    "text_clf.fit(X,y)\n",
    "\n",
    "pred=text_clf.predict(df_test['user_review'])"
   ]
  },
  {
   "cell_type": "code",
   "execution_count": 143,
   "metadata": {},
   "outputs": [],
   "source": [
    "submission=pd.read_csv('submission.csv')"
   ]
  },
  {
   "cell_type": "code",
   "execution_count": 144,
   "metadata": {},
   "outputs": [],
   "source": [
    "submission['user_suggestion']=pred"
   ]
  },
  {
   "cell_type": "code",
   "execution_count": 145,
   "metadata": {},
   "outputs": [],
   "source": [
    "submission.to_csv('output1.csv',index=False)"
   ]
  },
  {
   "cell_type": "code",
   "execution_count": 146,
   "metadata": {},
   "outputs": [
    {
     "data": {
      "text/plain": [
       "1    4802\n",
       "0    3243\n",
       "Name: user_suggestion, dtype: int64"
      ]
     },
     "execution_count": 146,
     "metadata": {},
     "output_type": "execute_result"
    }
   ],
   "source": [
    "submission['user_suggestion'].value_counts()"
   ]
  },
  {
   "cell_type": "code",
   "execution_count": null,
   "metadata": {},
   "outputs": [],
   "source": []
  }
 ],
 "metadata": {
  "kernelspec": {
   "display_name": "Python 3",
   "language": "python",
   "name": "python3"
  },
  "language_info": {
   "codemirror_mode": {
    "name": "ipython",
    "version": 3
   },
   "file_extension": ".py",
   "mimetype": "text/x-python",
   "name": "python",
   "nbconvert_exporter": "python",
   "pygments_lexer": "ipython3",
   "version": "3.7.4"
  }
 },
 "nbformat": 4,
 "nbformat_minor": 2
}
